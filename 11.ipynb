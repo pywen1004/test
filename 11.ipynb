{
  "nbformat": 4,
  "nbformat_minor": 0,
  "metadata": {
    "colab": {
      "provenance": []
    },
    "kernelspec": {
      "name": "python3",
      "display_name": "Python 3"
    },
    "language_info": {
      "name": "python"
    }
  },
  "cells": [
    {
      "cell_type": "markdown",
      "source": [
        "11. Write a Python program that simulates a handheld calculator. Your program should process input from the Python console representing buttons that are “pushed,” and then output the contents of the screen after each operation is performed. Minimally, your calculator should be able to process the basic arithmetic operations and a reset/clear operation."
      ],
      "metadata": {
        "id": "0bgv3rjOA-5H"
      }
    },
    {
      "cell_type": "code",
      "execution_count": 4,
      "metadata": {
        "colab": {
          "base_uri": "https://localhost:8080/"
        },
        "id": "XBpcHjZk_2kY",
        "outputId": "3265be1f-ee2b-4b48-f2a3-1fba7083aadb"
      },
      "outputs": [
        {
          "output_type": "stream",
          "name": "stdout",
          "text": [
            "Press a button (number, +, -, *, /, =, C, E to exit): 9\n",
            "Screen: 9\n",
            "Press a button (number, +, -, *, /, =, C, E to exit): *\n",
            "Operator * selected\n",
            "Press a button (number, +, -, *, /, =, C, E to exit): 8\n",
            "Screen: 8\n",
            "Press a button (number, +, -, *, /, =, C, E to exit): =\n",
            "Screen: 72\n",
            "Press a button (number, +, -, *, /, =, C, E to exit): -\n",
            "Operator - selected\n",
            "Press a button (number, +, -, *, /, =, C, E to exit): 50\n",
            "Screen: 50\n",
            "Press a button (number, +, -, *, /, =, C, E to exit): =\n",
            "Screen: 22\n",
            "Press a button (number, +, -, *, /, =, C, E to exit): C\n",
            "Screen cleared\n",
            "Press a button (number, +, -, *, /, =, C, E to exit): 5\n",
            "Screen: 5\n",
            "Press a button (number, +, -, *, /, =, C, E to exit): +\n",
            "Operator + selected\n",
            "Press a button (number, +, -, *, /, =, C, E to exit): 19\n",
            "Screen: 19\n",
            "Press a button (number, +, -, *, /, =, C, E to exit): =\n",
            "Screen: 24\n",
            "Press a button (number, +, -, *, /, =, C, E to exit): E\n",
            "Calculator turned off\n"
          ]
        }
      ],
      "source": [
        "class Calculator:\n",
        "    def __init__(cal):\n",
        "        cal.current_value = 0\n",
        "        cal.operator = None\n",
        "        cal.operand = None\n",
        "        cal.reset_next = False\n",
        "\n",
        "    def push(cal, button):\n",
        "        if button.isdigit():\n",
        "            if cal.reset_next:\n",
        "                cal.current_value = int(button)\n",
        "                cal.reset_next = False\n",
        "            else:\n",
        "                cal.current_value = cal.current_value * 10 + int(button)\n",
        "            print(f\"Screen: {cal.current_value}\")\n",
        "        elif button in ['+', '-', '*', '/']:\n",
        "            cal.operator = button\n",
        "            cal.operand = cal.current_value\n",
        "            cal.reset_next = True\n",
        "            print(f\"Operator {cal.operator} selected\")\n",
        "        elif button == '=':\n",
        "            if cal.operator and cal.operand is not None:\n",
        "                if cal.operator == '+':\n",
        "                    cal.current_value = cal.operand + cal.current_value\n",
        "                elif cal.operator == '-':\n",
        "                    cal.current_value = cal.operand - cal.current_value\n",
        "                elif cal.operator == '*':\n",
        "                    cal.current_value = cal.operand * cal.current_value\n",
        "                elif cal.operator == '/':\n",
        "                    if cal.current_value != 0:\n",
        "                        cal.current_value = cal.operand / cal.current_value\n",
        "                    else:\n",
        "                        cal.current_value = 0\n",
        "            print(f\"Screen: {cal.current_value}\")\n",
        "            cal.reset_next = True\n",
        "        elif button.upper() == 'C':\n",
        "            cal.current_value = 0\n",
        "            cal.operator = None\n",
        "            cal.operand = None\n",
        "            cal.reset_next = False\n",
        "            print(\"Screen cleared\")\n",
        "        elif button.upper() == 'E':\n",
        "            print(\"Calculator turned off\")\n",
        "            return False\n",
        "        else:\n",
        "            print(\"Invalid button\")\n",
        "\n",
        "        return True\n",
        "\n",
        "def basic_calculator():\n",
        "    calc = Calculator()\n",
        "    while True:\n",
        "        button = input(\"Press a button (number, +, -, *, /, =, C, E to exit): \")\n",
        "        if not calc.push(button):\n",
        "            break\n",
        "\n",
        "basic_calculator()"
      ]
    }
  ]
}