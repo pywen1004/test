{
  "nbformat": 4,
  "nbformat_minor": 0,
  "metadata": {
    "colab": {
      "provenance": []
    },
    "kernelspec": {
      "name": "python3",
      "display_name": "Python 3"
    },
    "language_info": {
      "name": "python"
    }
  },
  "cells": [
    {
      "cell_type": "markdown",
      "source": [
        "14. Suppose you are given an n-element sequence, S, containing distinct integers that are listed in increasing order. Given a number k, describe a recursive algorithm to find two integers in S that sum to k, if such a pair exists. What is the running time of your algorithm?"
      ],
      "metadata": {
        "id": "KHQFdhPfR-ad"
      }
    },
    {
      "cell_type": "code",
      "execution_count": 1,
      "metadata": {
        "colab": {
          "base_uri": "https://localhost:8080/"
        },
        "id": "ru8fQeIuR8nP",
        "outputId": "17dd819d-b34d-48ff-daa8-39ff28fcdfcc"
      },
      "outputs": [
        {
          "output_type": "stream",
          "name": "stdout",
          "text": [
            "Pair found: (5, 20)\n",
            "Running time: 0.0001152 seconds\n"
          ]
        }
      ],
      "source": [
        "import time\n",
        "\n",
        "def pair(S, k, left=0, right=None):\n",
        "    if right is None:\n",
        "        right = len(S) - 1\n",
        "\n",
        "    if left >= right:\n",
        "        return None\n",
        "\n",
        "    current_sum = S[left] + S[right]\n",
        "\n",
        "    if current_sum == k:\n",
        "        return (S[left], S[right])\n",
        "    elif current_sum < k:\n",
        "        return pair(S, k, left + 1, right)\n",
        "    else:\n",
        "        return pair(S, k, left, right - 1)\n",
        "\n",
        "S = list(range(1, 21))\n",
        "k = 25\n",
        "\n",
        "start_time = time.time()\n",
        "result = pair(S, k)\n",
        "end_time = time.time()\n",
        "\n",
        "if result:\n",
        "    print(f\"Pair found: {result}\")\n",
        "else:\n",
        "    print(\"No pair found.\")\n",
        "\n",
        "print(f\"Running time: {end_time - start_time:.7f} seconds\")"
      ]
    }
  ]
}